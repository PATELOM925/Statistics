{
  "nbformat": 4,
  "nbformat_minor": 0,
  "metadata": {
    "colab": {
      "provenance": [],
      "authorship_tag": "ABX9TyNGB2agXFVDhK4dzzerTke1",
      "include_colab_link": true
    },
    "kernelspec": {
      "name": "python3",
      "display_name": "Python 3"
    },
    "language_info": {
      "name": "python"
    }
  },
  "cells": [
    {
      "cell_type": "markdown",
      "metadata": {
        "id": "view-in-github",
        "colab_type": "text"
      },
      "source": [
        "<a href=\"https://colab.research.google.com/github/PATELOM925/Statistics/blob/main/Day_4.ipynb\" target=\"_parent\"><img src=\"https://colab.research.google.com/assets/colab-badge.svg\" alt=\"Open In Colab\"/></a>"
      ]
    },
    {
      "cell_type": "code",
      "execution_count": 1,
      "metadata": {
        "id": "pafW20vaVfGW"
      },
      "outputs": [],
      "source": []
    },
    {
      "cell_type": "markdown",
      "source": [
        "## STATISTICS (DAY 4 KRISH NAIK)"
      ],
      "metadata": {
        "id": "gZz7XgbaVo5Q"
      }
    },
    {
      "cell_type": "markdown",
      "source": [
        "OUTLIERS\n",
        "\n",
        "\n",
        "\n"
      ],
      "metadata": {
        "id": "VS7bo6-zVt-G"
      }
    },
    {
      "cell_type": "code",
      "source": [
        "import pandas as np\n",
        "import numpy as np\n",
        "import matplotlib.pyplot as plt\n",
        "import seaborn as sns\n",
        "%matplotlib inline\n",
        "\n"
      ],
      "metadata": {
        "id": "QyV_6xTbV4mP"
      },
      "execution_count": 33,
      "outputs": []
    },
    {
      "cell_type": "code",
      "source": [
        "#dataset\n",
        "\n",
        "d = [11,10,12,11,13,14,15,16,17,19,9,16,12,19,12,102,107,12,9,8,16,17,11,10,18,108,13,16,19,12,14,15,17]"
      ],
      "metadata": {
        "id": "5jFtELoqWKp9"
      },
      "execution_count": 13,
      "outputs": []
    },
    {
      "cell_type": "code",
      "source": [
        "plt.hist(d)"
      ],
      "metadata": {
        "colab": {
          "base_uri": "https://localhost:8080/",
          "height": 484
        },
        "id": "Mztz_qHVX33u",
        "outputId": "3a764cde-08a7-4811-da56-281c6a706737"
      },
      "execution_count": 14,
      "outputs": [
        {
          "output_type": "execute_result",
          "data": {
            "text/plain": [
              "(array([26.,  4.,  0.,  0.,  0.,  0.,  0.,  0.,  0.,  3.]),\n",
              " array([  8.,  18.,  28.,  38.,  48.,  58.,  68.,  78.,  88.,  98., 108.]),\n",
              " <BarContainer object of 10 artists>)"
            ]
          },
          "metadata": {},
          "execution_count": 14
        },
        {
          "output_type": "display_data",
          "data": {
            "text/plain": [
              "<Figure size 640x480 with 1 Axes>"
            ],
            "image/png": "[encoded data removed]"
          },
          "metadata": {}
        }
      ]
    },
    {
      "cell_type": "code",
      "source": [
        "##USING Z_SCORE\n",
        "\n",
        "outliers = []\n",
        "\n",
        "def detect_outlier(data):\n",
        " threshold = 3\n",
        " mean = np.mean(data)\n",
        " standard_deviation = np.std(data)\n",
        "\n",
        " for i in d:\n",
        "  z_score = (i - mean) / standard_deviation\n",
        "#abs = absolute , used to roundoff\n",
        "  if np.abs(z_score) > threshold:  #if z_score away from 3rd standard devn\n",
        "    outliers.append(i)\n",
        "\n",
        " return outliers\n"
      ],
      "metadata": {
        "id": "seA0eyQWWouS"
      },
      "execution_count": 20,
      "outputs": []
    },
    {
      "cell_type": "code",
      "source": [
        "detect_outlier(d)"
      ],
      "metadata": {
        "colab": {
          "base_uri": "https://localhost:8080/"
        },
        "id": "hshLe4IPYQgW",
        "outputId": "37dcdcfe-e9d1-4d6f-9f54-fd3d61299ba7"
      },
      "execution_count": 21,
      "outputs": [
        {
          "output_type": "execute_result",
          "data": {
            "text/plain": [
              "[102, 107, 108]"
            ]
          },
          "metadata": {},
          "execution_count": 21
        }
      ]
    },
    {
      "cell_type": "code",
      "source": [],
      "metadata": {
        "id": "d-ytIK-JYlkE"
      },
      "execution_count": null,
      "outputs": []
    },
    {
      "cell_type": "markdown",
      "source": [],
      "metadata": {
        "id": "i_QuU5YOYoKR"
      }
    },
    {
      "cell_type": "markdown",
      "source": [
        "#IQR\n",
        "\n",
        "USING IQR : below ARE THE STEPS\n",
        "\n",
        "1 Minimum\n",
        "2 First quartile (Q1)\n",
        "3 Median\n",
        "4 Third Quartile (Q3)\n",
        "5 MaximumTo determine outlier : We need to develop lower fence and higher fence\n",
        "\n",
        "lower fence = Q1 - 1.5 (IQR)\n",
        "higher fence = Q3 + 1.5 (IQR)Interquartile Range (IQR)  =  Q3 - Q1\n",
        "where Q3 = 75% percentile value\n",
        "Q1 = 25th percentile value"
      ],
      "metadata": {
        "id": "Mvp_6O1HYoR2"
      }
    },
    {
      "cell_type": "code",
      "source": [
        "d = sorted(d)\n",
        "d"
      ],
      "metadata": {
        "colab": {
          "base_uri": "https://localhost:8080/"
        },
        "id": "uqDCZSZIYsaE",
        "outputId": "03466cbe-24d7-43fc-a247-ee47a5a5a94d"
      },
      "execution_count": 23,
      "outputs": [
        {
          "output_type": "execute_result",
          "data": {
            "text/plain": [
              "[8,\n",
              " 9,\n",
              " 9,\n",
              " 10,\n",
              " 10,\n",
              " 11,\n",
              " 11,\n",
              " 11,\n",
              " 12,\n",
              " 12,\n",
              " 12,\n",
              " 12,\n",
              " 12,\n",
              " 13,\n",
              " 13,\n",
              " 14,\n",
              " 14,\n",
              " 15,\n",
              " 15,\n",
              " 16,\n",
              " 16,\n",
              " 16,\n",
              " 16,\n",
              " 17,\n",
              " 17,\n",
              " 17,\n",
              " 18,\n",
              " 19,\n",
              " 19,\n",
              " 19,\n",
              " 102,\n",
              " 107,\n",
              " 108]"
            ]
          },
          "metadata": {},
          "execution_count": 23
        }
      ]
    },
    {
      "cell_type": "code",
      "source": [
        "q1,q3 = np.percentile(d,[25,75])\n",
        "print(q1,q3)"
      ],
      "metadata": {
        "colab": {
          "base_uri": "https://localhost:8080/"
        },
        "id": "e52a20JGZAF3",
        "outputId": "2bde772f-5387-4462-fe6b-f6cf35b4f0ef"
      },
      "execution_count": 26,
      "outputs": [
        {
          "output_type": "stream",
          "name": "stdout",
          "text": [
            "12.0 17.0\n"
          ]
        }
      ]
    },
    {
      "cell_type": "code",
      "source": [
        "#find lower fence and higher fence\n",
        "\n",
        "# lower fence = Q1 - 1.5 (IQR)\n",
        "# higher fence = Q3 + 1.5 (IQR)Interquartile Range (IQR)  =  Q3 - Q1\n",
        "\n",
        "iqr = q3-q1\n",
        "\n",
        "lf = q1 - (1.5*iqr)\n",
        "hf = q3 - (1.5*iqr)\n",
        "\n",
        "print(\"lower fence =\",lf)\n",
        "print(\"higher fence =\",hf)\n"
      ],
      "metadata": {
        "colab": {
          "base_uri": "https://localhost:8080/"
        },
        "id": "vFv7elrSZgMV",
        "outputId": "e70ff3d3-cb1c-4893-8ba2-7b7ffc05859d"
      },
      "execution_count": 30,
      "outputs": [
        {
          "output_type": "stream",
          "name": "stdout",
          "text": [
            "lower fence = 4.5\n",
            "higher fence = 9.5\n"
          ]
        }
      ]
    },
    {
      "cell_type": "code",
      "source": [
        "sns.boxplot(d)"
      ],
      "metadata": {
        "colab": {
          "base_uri": "https://localhost:8080/",
          "height": 448
        },
        "id": "euysnequZiMe",
        "outputId": "23fe9063-40db-4bbb-efe3-7d87195d9b7b"
      },
      "execution_count": 36,
      "outputs": [
        {
          "output_type": "execute_result",
          "data": {
            "text/plain": [
              "<Axes: >"
            ]
          },
          "metadata": {},
          "execution_count": 36
        },
        {
          "output_type": "display_data",
          "data": {
            "text/plain": [
              "<Figure size 640x480 with 1 Axes>"
            ],
            "image/png": "[encoded data removed]"
          },
          "metadata": {}
        }
      ]
    }
  ]
}